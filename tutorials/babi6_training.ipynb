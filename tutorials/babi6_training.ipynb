{
 "cells": [
  {
   "cell_type": "markdown",
   "id": "da097a0d-fbbd-408e-abc0-ff01f3bd9425",
   "metadata": {},
   "source": [
    "# Babi6 Generator"
   ]
  },
  {
   "cell_type": "code",
   "id": "4601466d-e0f0-46ac-a0c1-855fca404e5c",
   "metadata": {
    "ExecuteTime": {
     "end_time": "2025-09-03T16:55:35.384057Z",
     "start_time": "2025-09-03T16:55:35.335250Z"
    }
   },
   "source": [
    "import pickle\n",
    "from tqdm import trange, tqdm\n",
    "from pathlib import Path\n",
    "import torch\n",
    "import matplotlib.pyplot as plt\n",
    "import numpy as np\n",
    "\n",
    "from lambeq import CachedTnPathOptimizer, PytorchTrainer\n",
    "\n",
    "from utils.babi6.vocabulary import (\n",
    "    PEOPLE, LOCATIONS, OBJECTS, MOVE, GRAB, DROP\n",
    ")\n",
    "from utils.babi6.generate_babi_stories import generate, Answers\n",
    "from utils.babi6.parse_babi import bAbI6Parser, babiSandwichFunctor\n",
    "from utils.ansatz import DiscardSim4Ansatz\n",
    "from utils.training import QADataset, PytorchQAModel\n",
    "\n",
    "SAVE_DIR = Path(\"./results/babi6\").resolve()\n",
    "SAVE_DIR.mkdir(parents=True, exist_ok=True)\n",
    "SAVE_DIR"
   ],
   "outputs": [
    {
     "data": {
      "text/plain": [
       "PosixPath('/Users/tiffany.duneau/PycharmProjects/QDisCoCirc_Following_Showcase/tutorials/results/babi6')"
      ]
     },
     "execution_count": 54,
     "metadata": {},
     "output_type": "execute_result"
    }
   ],
   "execution_count": 54
  },
  {
   "cell_type": "code",
   "id": "556e4e8b-0d87-4ea6-822a-e21cf9919ff5",
   "metadata": {
    "scrolled": true,
    "ExecuteTime": {
     "end_time": "2025-09-03T16:35:52.993423Z",
     "start_time": "2025-09-03T16:35:52.988337Z"
    }
   },
   "source": "generate(PEOPLE, OBJECTS, LOCATIONS, MOVE, GRAB, DROP, depth=1, max_nouns=None)",
   "outputs": [
    {
     "data": {
      "text/plain": [
       "((['Eric went to the bedroom.'], 'Is Eric in the bedroom?\\tyes\\t0', 'yes'),\n",
       " WorldState(people=['Eric'], objects=[], locations=['bedroom'], state={'Eric': In bedroom with set() ([0])}))"
      ]
     },
     "execution_count": 23,
     "metadata": {},
     "output_type": "execute_result"
    }
   ],
   "execution_count": 23
  },
  {
   "metadata": {
    "ExecuteTime": {
     "end_time": "2025-09-03T16:35:53.185478Z",
     "start_time": "2025-09-03T16:35:53.183369Z"
    }
   },
   "cell_type": "code",
   "source": [
    "min_depth = 2\n",
    "max_depth = 11\n",
    "depth_step = 2\n",
    "samples_per_shape = 8"
   ],
   "id": "cf0349255f45d29e",
   "outputs": [],
   "execution_count": 24
  },
  {
   "cell_type": "code",
   "id": "c36a1c89-8a76-436c-9493-9f80c2c7077b",
   "metadata": {
    "ExecuteTime": {
     "end_time": "2025-09-03T16:52:09.550092Z",
     "start_time": "2025-09-03T16:52:09.542582Z"
    }
   },
   "source": [
    "# Define the story depths to target\n",
    "all_shapes = [\n",
    "    (depth, ans_class.value)\n",
    "    for depth in range(min_depth, max_depth, depth_step)\n",
    "    for ans_class in Answers\n",
    "]\n",
    "\n",
    "data = {shape: [] for shape in all_shapes}\n",
    "finished_shapes = []\n",
    "\n",
    "# Configurable:\n",
    "def get_shape(world_state, story):\n",
    "    return len(story[0]), story[2]\n",
    "\n",
    "data.keys()"
   ],
   "outputs": [
    {
     "data": {
      "text/plain": [
       "dict_keys([(2, 'yes'), (2, 'no'), (4, 'yes'), (4, 'no'), (6, 'yes'), (6, 'no'), (8, 'yes'), (8, 'no'), (10, 'yes'), (10, 'no')])"
      ]
     },
     "execution_count": 41,
     "metadata": {},
     "output_type": "execute_result"
    }
   ],
   "execution_count": 41
  },
  {
   "cell_type": "code",
   "id": "a0d9ef21-ad5b-4a33-b8d7-aee98799c7af",
   "metadata": {
    "ExecuteTime": {
     "end_time": "2025-09-03T16:52:10.092507Z",
     "start_time": "2025-09-03T16:52:10.090143Z"
    }
   },
   "source": [
    "# For systematicity, we restrict the available people and locations, such that interactions between groups are limited.\n",
    "ONE_PERSON = PEOPLE[:1]\n",
    "_ONE_PERSON = PEOPLE[1:]\n",
    "ONE_LOCATION = LOCATIONS[:1]\n",
    "_ONE_LOCATION = LOCATIONS[1:]"
   ],
   "outputs": [],
   "execution_count": 42
  },
  {
   "cell_type": "code",
   "id": "862590d9-ef2e-4403-94a4-e7e0c3b4aebb",
   "metadata": {
    "ExecuteTime": {
     "end_time": "2025-09-03T16:52:36.261442Z",
     "start_time": "2025-09-03T16:52:36.243700Z"
    }
   },
   "source": [
    "# Attempt to generate the requested shapes\n",
    "for depth in trange(min_depth, max_depth, depth_step, desc=\"Generating stories\"):\n",
    "    attempts = 0\n",
    "    while len(finished_shapes) != len(all_shapes) and attempts < 300:\n",
    "        attempts += 1\n",
    "        try:\n",
    "            story, world_state = generate(\n",
    "                PEOPLE, OBJECTS, LOCATIONS, MOVE, GRAB, DROP,\n",
    "                depth=depth, max_nouns=None\n",
    "            )\n",
    "            shape = get_shape(world_state, story)\n",
    "\n",
    "            if shape in all_shapes and shape not in finished_shapes:\n",
    "                if story not in data[shape]:\n",
    "                    data[shape].append((story, world_state))\n",
    "                    if len(data[shape]) == samples_per_shape:\n",
    "                        finished_shapes.append(shape)\n",
    "            else:\n",
    "                continue\n",
    "        except Exception as e:\n",
    "            pass\n",
    "\n",
    "# write to file\n",
    "with open(SAVE_DIR / \"stories.pkl\", \"wb\") as f:\n",
    "    pickle.dump(data, f)\n",
    "\n",
    "data.keys(), f\"missing {len(all_shapes) - len(finished_shapes)}\""
   ],
   "outputs": [
    {
     "name": "stderr",
     "output_type": "stream",
     "text": [
      "\n",
      "Generating stories: 100%|██████████| 5/5 [00:00<00:00, 69672.82it/s]\n"
     ]
    },
    {
     "data": {
      "text/plain": [
       "(dict_keys([(2, 'yes'), (2, 'no'), (4, 'yes'), (4, 'no'), (6, 'yes'), (6, 'no'), (8, 'yes'), (8, 'no'), (10, 'yes'), (10, 'no')]),\n",
       " 'missing 0')"
      ]
     },
     "execution_count": 44,
     "metadata": {},
     "output_type": "execute_result"
    }
   ],
   "execution_count": 44
  },
  {
   "metadata": {
    "ExecuteTime": {
     "end_time": "2025-09-03T16:52:50.974403Z",
     "start_time": "2025-09-03T16:52:50.972506Z"
    }
   },
   "cell_type": "code",
   "source": [
    "# User ansatz params\n",
    "n_qb_per_noun = 1\n",
    "n_layers = 3"
   ],
   "id": "94c9e2da363c273d",
   "outputs": [],
   "execution_count": 45
  },
  {
   "metadata": {
    "ExecuteTime": {
     "end_time": "2025-09-03T16:52:51.303558Z",
     "start_time": "2025-09-03T16:52:51.300603Z"
    }
   },
   "cell_type": "code",
   "source": [
    "# Define the ansatz\n",
    "parser = bAbI6Parser()\n",
    "ansatz = DiscardSim4Ansatz(\n",
    "    ob_map={parser.n: n_qb_per_noun},\n",
    "    n_layers=n_layers,\n",
    "    discard=True,\n",
    "    n_ancillas=0,\n",
    ")"
   ],
   "id": "54a4fdda3b8342",
   "outputs": [],
   "execution_count": 46
  },
  {
   "metadata": {
    "ExecuteTime": {
     "end_time": "2025-09-03T16:53:38.088829Z",
     "start_time": "2025-09-03T16:53:32.472725Z"
    }
   },
   "cell_type": "code",
   "source": [
    "def convert(story, question, answer_class, world_state):\n",
    "    person = question.split(\" \")[1]\n",
    "    location = question.split(\" \")[4].split(\"?\")[0]\n",
    "    context_diag = parser.babi_text_to_diagram(\n",
    "        \" \".join(story) + \" \",  # Parser expects as a joined string.\n",
    "        person, location\n",
    "    )\n",
    "    yes_question = parser.babi_question_to_diagram(question, positive=True)\n",
    "    no_question = parser.babi_question_to_diagram(question, positive=False)\n",
    "\n",
    "    context_sandwich = babiSandwichFunctor(context_diag)\n",
    "    yes_sandwich = babiSandwichFunctor(yes_question)\n",
    "    no_sandwich = babiSandwichFunctor(no_question)\n",
    "\n",
    "    context_circ = ansatz(context_sandwich)\n",
    "    yes_circ = context_circ >> ansatz(yes_sandwich).dagger()\n",
    "    no_circ = context_circ >> ansatz(no_sandwich).dagger()\n",
    "\n",
    "    return {\n",
    "        \"story\": story,\n",
    "        \"n_nouns\": world_state.get_n_nouns(),\n",
    "        \"n_sentences\": len(story),\n",
    "        \"question_nouns\": (person, location),\n",
    "        \"answer_class\": answer_class,\n",
    "        \"diags\": (context_diag, yes_question, no_question),\n",
    "        \"sandwiched\": (\n",
    "            context_sandwich >> yes_sandwich.dagger(),\n",
    "            context_sandwich >> no_sandwich.dagger()\n",
    "        ),\n",
    "        \"circuits\": (yes_circ, no_circ),\n",
    "        \"target\": torch.tensor([1, 0] if answer_class == \"yes\" else [0, 1], dtype=torch.float32)\n",
    "    }\n",
    "\n",
    "dataset = [\n",
    "    convert(*story, world_state)\n",
    "    for k in tqdm(data.keys())\n",
    "    for story, world_state in data[k]\n",
    "]\n",
    "\n",
    "with open(SAVE_DIR / \"circuits.pkl\", \"wb\") as f:\n",
    "    pickle.dump(dataset, f)\n",
    "\n",
    "len(dataset)"
   ],
   "id": "95f0b02c3b16c971",
   "outputs": [
    {
     "name": "stderr",
     "output_type": "stream",
     "text": [
      "\n",
      "\n",
      "  0%|          | 0/10 [00:00<?, ?it/s]\u001B[A\u001B[A\n",
      "\n",
      " 10%|█         | 1/10 [00:00<00:00,  9.12it/s]\u001B[A\u001B[A\n",
      "\n",
      " 30%|███       | 3/10 [00:00<00:00,  8.56it/s]\u001B[A\u001B[A\n",
      "\n",
      " 40%|████      | 4/10 [00:00<00:00,  7.57it/s]\u001B[A\u001B[A\n",
      "\n",
      " 50%|█████     | 5/10 [00:00<00:00,  5.52it/s]\u001B[A\u001B[A\n",
      "\n",
      " 60%|██████    | 6/10 [00:01<00:00,  4.69it/s]\u001B[A\u001B[A\n",
      "\n",
      " 70%|███████   | 7/10 [00:01<00:00,  3.44it/s]\u001B[A\u001B[A\n",
      "\n",
      "  0%|          | 0/10 [13:43<?, ?it/s].89it/s]\u001B[A\u001B[A\n",
      "\n",
      "\n",
      " 90%|█████████ | 9/10 [00:04<00:00,  1.06it/s]\u001B[A\u001B[A\n",
      "\n",
      "100%|██████████| 10/10 [00:04<00:00,  2.01it/s]\u001B[A\u001B[A\n"
     ]
    },
    {
     "data": {
      "text/plain": [
       "80"
      ]
     },
     "execution_count": 48,
     "metadata": {},
     "output_type": "execute_result"
    }
   ],
   "execution_count": 48
  },
  {
   "metadata": {
    "ExecuteTime": {
     "end_time": "2025-09-03T16:53:39.636942Z",
     "start_time": "2025-09-03T16:53:39.529385Z"
    }
   },
   "cell_type": "code",
   "source": [
    "# Inspect the generated circuits.\n",
    "\n",
    "inspect_index = 10\n",
    "dataset[inspect_index][\"diags\"][0].draw(figsize=(7, 5))\n",
    "dataset[inspect_index][\"sandwiched\"][0].draw(figsize=(7, 5))\n",
    "print(sorted(dataset[inspect_index][\"circuits\"][0].free_symbols))\n",
    "(\n",
    "    dataset[inspect_index][\"story\"],\n",
    "    dataset[inspect_index][\"n_nouns\"],\n",
    "    dataset[inspect_index][\"n_sentences\"],\n",
    "    dataset[inspect_index][\"question_nouns\"],\n",
    "    dataset[inspect_index][\"answer_class\"],\n",
    ")"
   ],
   "id": "315f85d4502efc2e",
   "outputs": [
    {
     "data": {
      "text/plain": [
       "<Figure size 700x500 with 1 Axes>"
      ],
      "image/png": "[encoded data removed]"
     },
     "metadata": {},
     "output_type": "display_data"
    },
    {
     "data": {
      "text/plain": [
       "<Figure size 700x500 with 1 Axes>"
      ],
      "image/png": "[encoded data removed]"
     },
     "metadata": {},
     "output_type": "display_data"
    },
    {
     "name": "stdout",
     "output_type": "stream",
     "text": [
      "[Eric__n_0, Eric__n_1, Eric__n_2, Heidi__n_0, Heidi__n_1, Heidi__n_2, hallway__n_0, hallway__n_1, hallway__n_2, in_n_n_0, in_n_n_1, in_n_n_2, is_bottom_n@n_n@n_0, is_bottom_n@n_n@n_1, is_bottom_n@n_n@n_10, is_bottom_n@n_n@n_11, is_bottom_n@n_n@n_12, is_bottom_n@n_n@n_13, is_bottom_n@n_n@n_14, is_bottom_n@n_n@n_2, is_bottom_n@n_n@n_3, is_bottom_n@n_n@n_4, is_bottom_n@n_n@n_5, is_bottom_n@n_n@n_6, is_bottom_n@n_n@n_7, is_bottom_n@n_n@n_8, is_bottom_n@n_n@n_9, is_top_n@n_n@n_0, is_top_n@n_n@n_1, is_top_n@n_n@n_10, is_top_n@n_n@n_11, is_top_n@n_n@n_12, is_top_n@n_n@n_13, is_top_n@n_n@n_14, is_top_n@n_n@n_2, is_top_n@n_n@n_3, is_top_n@n_n@n_4, is_top_n@n_n@n_5, is_top_n@n_n@n_6, is_top_n@n_n@n_7, is_top_n@n_n@n_8, is_top_n@n_n@n_9, moved_n_n_0, moved_n_n_1, moved_n_n_2, office__n_0, office__n_1, office__n_2, to_bottom_n@n_n@n_0, to_bottom_n@n_n@n_1, to_bottom_n@n_n@n_10, to_bottom_n@n_n@n_11, to_bottom_n@n_n@n_12, to_bottom_n@n_n@n_13, to_bottom_n@n_n@n_14, to_bottom_n@n_n@n_2, to_bottom_n@n_n@n_3, to_bottom_n@n_n@n_4, to_bottom_n@n_n@n_5, to_bottom_n@n_n@n_6, to_bottom_n@n_n@n_7, to_bottom_n@n_n@n_8, to_bottom_n@n_n@n_9, to_top_n@n_n@n_0, to_top_n@n_n@n_1, to_top_n@n_n@n_10, to_top_n@n_n@n_11, to_top_n@n_n@n_12, to_top_n@n_n@n_13, to_top_n@n_n@n_14, to_top_n@n_n@n_2, to_top_n@n_n@n_3, to_top_n@n_n@n_4, to_top_n@n_n@n_5, to_top_n@n_n@n_6, to_top_n@n_n@n_7, to_top_n@n_n@n_8, to_top_n@n_n@n_9, went_n_n_0, went_n_n_1, went_n_n_2]\n"
     ]
    },
    {
     "data": {
      "text/plain": [
       "(['Heidi moved to the hallway.', 'Eric went to the office.'],\n",
       " 4,\n",
       " 2,\n",
       " ('Eric', 'hallway'),\n",
       " 'no')"
      ]
     },
     "execution_count": 49,
     "metadata": {},
     "output_type": "execute_result"
    }
   ],
   "execution_count": 49
  },
  {
   "metadata": {},
   "cell_type": "markdown",
   "source": "# Data split",
   "id": "ad00d3f1dcc85f12"
  },
  {
   "metadata": {
    "ExecuteTime": {
     "end_time": "2025-09-03T16:59:42.767245Z",
     "start_time": "2025-09-03T16:59:42.752368Z"
    }
   },
   "cell_type": "code",
   "source": [
    "# User params\n",
    "batch_size = 1\n",
    "\n",
    "train_size = 0.5\n",
    "valid_size = 0.75\n",
    "\n",
    "n_actor_train_cutoff = 8\n",
    "n_actor_valid_cutoff = 12"
   ],
   "id": "5a85cc7e2aa9a735",
   "outputs": [],
   "execution_count": 64
  },
  {
   "metadata": {
    "ExecuteTime": {
     "end_time": "2025-09-03T16:59:43.136886Z",
     "start_time": "2025-09-03T16:59:43.119978Z"
    }
   },
   "cell_type": "code",
   "source": [
    "train_threshold = min_depth + train_size * (max_depth - min_depth)\n",
    "valid_threshold = min_depth + valid_size * (max_depth - min_depth)\n",
    "\n",
    "train_ids = [\n",
    "    i for i, entry in enumerate(dataset)\n",
    "    if entry[\"n_sentences\"] < train_threshold and entry[\"n_nouns\"] < n_actor_train_cutoff\n",
    "]\n",
    "valid_ids = [\n",
    "    i for i, entry in enumerate(dataset)\n",
    "    if entry[\"n_sentences\"] >= train_threshold and entry[\"n_nouns\"] >= n_actor_train_cutoff\n",
    "    and entry[\"n_sentences\"] < valid_threshold and entry[\"n_nouns\"] < n_actor_valid_cutoff\n",
    "]\n",
    "test_ids = [\n",
    "    i for i, entry in enumerate(dataset)\n",
    "    if entry[\"n_sentences\"] >= valid_threshold and entry[\"n_nouns\"] >= n_actor_valid_cutoff\n",
    "]\n",
    "other_ids = [\n",
    "    i for i in range(len(dataset))\n",
    "    if i not in train_ids + valid_ids + test_ids\n",
    "]\n",
    "\n",
    "train_dataset = QADataset(\n",
    "    data=[entry[\"circuits\"] for i, entry in enumerate(dataset) if i in train_ids],\n",
    "    targets=[entry[\"target\"] for i, entry in enumerate(dataset) if i in train_ids],\n",
    "    batch_size=batch_size, shuffle=True\n",
    ")\n",
    "valid_dataset = QADataset(\n",
    "    data=[entry[\"circuits\"] for i, entry in enumerate(dataset) if i in valid_ids],\n",
    "    targets=[entry[\"target\"] for i, entry in enumerate(dataset) if i in valid_ids],\n",
    "    batch_size=0, shuffle=False\n",
    ")\n",
    "test_dataset = QADataset(\n",
    "    data=[entry[\"circuits\"] for i, entry in enumerate(dataset) if i in test_ids],\n",
    "    targets=[entry[\"target\"] for i, entry in enumerate(dataset) if i in test_ids],\n",
    "    batch_size=0, shuffle=False\n",
    ")\n",
    "\n",
    "len(train_dataset), len(valid_dataset), len(test_dataset), len(other_ids)"
   ],
   "id": "2ca5aea7d81a9197",
   "outputs": [
    {
     "data": {
      "text/plain": [
       "(26, 4, 14, 36)"
      ]
     },
     "execution_count": 65,
     "metadata": {},
     "output_type": "execute_result"
    }
   ],
   "execution_count": 65
  },
  {
   "metadata": {
    "ExecuteTime": {
     "end_time": "2025-09-03T16:59:43.938071Z",
     "start_time": "2025-09-03T16:59:43.850622Z"
    }
   },
   "cell_type": "code",
   "source": [
    "# Visualise the data split distribution\n",
    "fig, ax = plt.subplots(figsize=(8,3))\n",
    "ax.set_title('Data split distribution')\n",
    "ax.set_xlabel('Number of sentences')\n",
    "ax.set_ylabel('Number of nouns')\n",
    "\n",
    "widths = [entry[\"n_nouns\"] for entry in dataset]\n",
    "depths = [entry[\"n_sentences\"] for entry in dataset]\n",
    "ax.set_xlim(min(depths)-1, max(depths)+1)\n",
    "ax.set_ylim(min(widths)-1, max(widths)+1)\n",
    "\n",
    "\n",
    "for ids, col in zip([train_ids, valid_ids, test_ids, other_ids], [\"blue\", \"cyan\", \"red\", \"black\"]):\n",
    "    ax.scatter(\n",
    "        x=[entry[\"n_sentences\"] for i, entry in enumerate(dataset) if i in ids],\n",
    "        y=[entry[\"n_nouns\"] for i, entry in enumerate(dataset) if i in ids],\n",
    "        c=col\n",
    "    )"
   ],
   "id": "3f7b17a4382cdbaf",
   "outputs": [
    {
     "data": {
      "text/plain": [
       "<Figure size 800x300 with 1 Axes>"
      ],
      "image/png": "[encoded data removed]"
     },
     "metadata": {},
     "output_type": "display_data"
    }
   ],
   "execution_count": 66
  },
  {
   "metadata": {},
   "cell_type": "markdown",
   "source": "### Training",
   "id": "a2ef51b93112c453"
  },
  {
   "metadata": {
    "ExecuteTime": {
     "end_time": "2025-09-03T16:59:53.397426Z",
     "start_time": "2025-09-03T16:59:53.393898Z"
    }
   },
   "cell_type": "code",
   "source": [
    "n_epochs = 40\n",
    "learning_rate = 5e-3\n",
    "training_seed = 420"
   ],
   "id": "45b5ed498280b71",
   "outputs": [],
   "execution_count": 67
  },
  {
   "metadata": {
    "ExecuteTime": {
     "end_time": "2025-09-03T16:59:53.917484Z",
     "start_time": "2025-09-03T16:59:53.913758Z"
    }
   },
   "cell_type": "code",
   "source": [
    "def acc(batched_y_hat: torch.tensor, batched_y: torch.tensor) -> torch.tensor:\n",
    "    argmax_y_hat = torch.argmax(batched_y_hat, dim=1)\n",
    "    argmax_y = torch.argmax(batched_y, dim=1)\n",
    "    accs = argmax_y_hat == argmax_y\n",
    "    return torch.mean(accs, dtype=torch.float)"
   ],
   "id": "25762f615c8f39ab",
   "outputs": [],
   "execution_count": 68
  },
  {
   "metadata": {
    "ExecuteTime": {
     "end_time": "2025-09-03T16:59:55.082402Z",
     "start_time": "2025-09-03T16:59:54.976786Z"
    }
   },
   "cell_type": "code",
   "source": [
    "model = PytorchQAModel.from_diagrams(\n",
    "    diagrams=train_dataset.data + valid_dataset.data + test_dataset.data,\n",
    "    tn_path_optimizer=CachedTnPathOptimizer(save_file=Path(SAVE_DIR / \"tn_cache.pkl\"))\n",
    ")\n",
    "model.initialise_weights()\n",
    "\n",
    "trainer = PytorchTrainer(\n",
    "    model=model,\n",
    "    loss_function=torch.nn.CrossEntropyLoss(),\n",
    "    epochs=n_epochs,\n",
    "    optimizer=torch.optim.Adam,\n",
    "    optimizer_args={\"lr\": learning_rate},\n",
    "    evaluate_functions={\"acc\": acc},\n",
    "    evaluate_on_train=True,\n",
    "    seed=training_seed,\n",
    "    verbose='text',\n",
    "    log_dir=Path(SAVE_DIR / \"training\"),\n",
    ")\n",
    "print(f\"{model.state_dict()['weights'].numel()} parameters\")"
   ],
   "id": "5fb2f509c10de9f0",
   "outputs": [
    {
     "name": "stdout",
     "output_type": "stream",
     "text": [
      "393 parameters\n"
     ]
    }
   ],
   "execution_count": 69
  },
  {
   "metadata": {
    "jupyter": {
     "is_executing": true
    },
    "ExecuteTime": {
     "start_time": "2025-09-03T16:59:56.362282Z"
    }
   },
   "cell_type": "code",
   "source": [
    "trainer.fit(\n",
    "    train_dataset=train_dataset,\n",
    "    val_dataset=valid_dataset,\n",
    "    log_interval=1,\n",
    "    eval_interval=1,\n",
    "    minimize_criterion=True,\n",
    ")"
   ],
   "id": "6b5a718ebb4f2cd0",
   "outputs": [
    {
     "name": "stderr",
     "output_type": "stream",
     "text": [
      "  0%|          | 0/10 [07:14<?, ?it/s]\n"
     ]
    }
   ],
   "execution_count": null
  },
  {
   "metadata": {},
   "cell_type": "markdown",
   "source": "### Results",
   "id": "6776927fe117f884"
  },
  {
   "metadata": {},
   "cell_type": "code",
   "outputs": [],
   "execution_count": null,
   "source": [
    "fig, ((ax_tl, ax_tr), (ax_bl, ax_br)) = plt.subplots(\n",
    "    2, 2, sharex=True, sharey='row', figsize=(10, 6)\n",
    ")\n",
    "ax_tl.set_title('Training set')\n",
    "ax_tr.set_title('Validation set')\n",
    "ax_bl.set_xlabel('Iterations')\n",
    "ax_br.set_xlabel('Iterations')\n",
    "ax_bl.set_ylabel('Accuracy')\n",
    "ax_tl.set_ylabel('Loss')\n",
    "\n",
    "range_ = np.arange(1, trainer.epochs+1)\n",
    "ax_tl.plot(range_, trainer.train_epoch_costs, color=\"blue\")\n",
    "ax_bl.plot(range_, trainer.train_eval_results['acc'], color=\"blue\")\n",
    "ax_tr.plot(range_, trainer.val_costs, color=\"cyan\")\n",
    "ax_br.plot(range_, trainer.val_eval_results['acc'], color=\"cyan\")"
   ],
   "id": "681a2a9cd6c5ffd6"
  },
  {
   "metadata": {},
   "cell_type": "code",
   "outputs": [],
   "execution_count": null,
   "source": "",
   "id": "bfc908171ac84b24"
  }
 ],
 "metadata": {
  "kernelspec": {
   "display_name": "Python 3 (ipykernel)",
   "language": "python",
   "name": "python3"
  },
  "language_info": {
   "codemirror_mode": {
    "name": "ipython",
    "version": 3
   },
   "file_extension": ".py",
   "mimetype": "text/x-python",
   "name": "python",
   "nbconvert_exporter": "python",
   "pygments_lexer": "ipython3",
   "version": "3.10.12"
  }
 },
 "nbformat": 4,
 "nbformat_minor": 5
}
